{
 "cells": [
  {
   "cell_type": "code",
   "execution_count": 6,
   "metadata": {},
   "outputs": [
    {
     "name": "stdout",
     "output_type": "stream",
     "text": [
      "4\n"
     ]
    }
   ],
   "source": [
    "import random #亂數內建\n",
    "min = 1\n",
    "max = 5\n",
    "randomnum = random.randint(min,max)\n",
    "print(randomnum)"
   ]
  },
  {
   "cell_type": "code",
   "execution_count": 3,
   "metadata": {},
   "outputs": [
    {
     "name": "stdout",
     "output_type": "stream",
     "text": [
      "4\n",
      "猜數字範圍1~5:2\n",
      "在大點\n",
      "猜0\n",
      "猜數字範圍3~5:3\n",
      "在大點\n",
      "猜0\n",
      "猜數字範圍4~5:Number must be at minimum 4.\n",
      "猜數字範圍4~5:Number must be at minimum 4.\n",
      "猜數字範圍4~5:Number must be at minimum 4.\n",
      "猜數字範圍4~5:Number must be at minimum 4.\n",
      "猜數字範圍4~5:Number must be at minimum 4.\n",
      "猜數字範圍4~5:4\n",
      "猜對\n",
      "Game Over\n"
     ]
    }
   ],
   "source": [
    "import random #亂數內建\n",
    "import pyinputplus as pyip\n",
    "min = 1\n",
    "max = 5\n",
    "count = 0\n",
    "randomnum = random.randint(min,max)\n",
    "print(randomnum)\n",
    "while True:\n",
    "    keyin = pyip.inputInt(f\"猜數字範圍{min}~{max}:\",min=min,max=max)\n",
    "    print(keyin)\n",
    "    if keyin == randomnum:\n",
    "        print(\"猜對\")\n",
    "        break\n",
    "    elif keyin > randomnum:\n",
    "        print(\"在小點\")\n",
    "        max = keyin - 1\n",
    "    elif keyin < randomnum:\n",
    "        print(\"在大點\")\n",
    "        min = keyin + 1\n",
    "    print(f\"猜{count}\")\n",
    "print(\"Game Over\")"
   ]
  }
 ],
 "metadata": {
  "kernelspec": {
   "display_name": "Python 3",
   "language": "python",
   "name": "python3"
  },
  "language_info": {
   "codemirror_mode": {
    "name": "ipython",
    "version": 3
   },
   "file_extension": ".py",
   "mimetype": "text/x-python",
   "name": "python",
   "nbconvert_exporter": "python",
   "pygments_lexer": "ipython3",
   "version": "3.10.13"
  }
 },
 "nbformat": 4,
 "nbformat_minor": 2
}
