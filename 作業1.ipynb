{
 "cells": [
  {
   "cell_type": "code",
   "execution_count": 1,
   "metadata": {},
   "outputs": [
    {
     "name": "stdout",
     "output_type": "stream",
     "text": [
      "請輸入學生分數:Number must be at maximum 100.\n",
      "請輸入學生分數:100\n",
      "學生分數:,100,優\n"
     ]
    }
   ],
   "source": [
    "import pyinputplus as pyip\n",
    "try:\n",
    "    scores = pyip.inputNum(prompt='請輸入學生分數:',min=0, max=100)\n",
    "    print(scores)\n",
    "except:\n",
    "    print(\"超出範圍,格式\")\n",
    "else:\n",
    "    if scores <= 60:\n",
    "        print(f'學生分數:,{scores},不及格')\n",
    "    elif scores <= 80:\n",
    "        print(f'學生分數:,{scores},及格')\n",
    "    elif scores <= 100:\n",
    "        print(f'學生分數:,{scores},優')"
   ]
  }
 ],
 "metadata": {
  "kernelspec": {
   "display_name": "Python 3",
   "language": "python",
   "name": "python3"
  },
  "language_info": {
   "codemirror_mode": {
    "name": "ipython",
    "version": 3
   },
   "file_extension": ".py",
   "mimetype": "text/x-python",
   "name": "python",
   "nbconvert_exporter": "python",
   "pygments_lexer": "ipython3",
   "version": "3.10.13"
  }
 },
 "nbformat": 4,
 "nbformat_minor": 2
}
