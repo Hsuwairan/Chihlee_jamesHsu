{
 "cells": [
  {
   "cell_type": "code",
   "execution_count": null,
   "metadata": {},
   "outputs": [],
   "source": [
    "#學生總分為300\n",
    "#有些學生可以加分5%\n",
    "\n",
    "scores = int(input (\"請輸入學生分數(最高300分):\"))\n",
    "is_add = input(\"學生是否加分條件?(Y,N\"))\n",
    "\n",
    "if is_add == \"Y\":\n",
    "    scores *= 1.05\n",
    "\n",
    "print(f\"學生分數是:{scores}\")"
   ]
  }
 ],
 "metadata": {
  "language_info": {
   "name": "python"
  }
 },
 "nbformat": 4,
 "nbformat_minor": 2
}
