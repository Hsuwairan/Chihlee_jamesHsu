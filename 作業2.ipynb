{
 "cells": [
  {
   "cell_type": "code",
   "execution_count": null,
   "metadata": {},
   "outputs": [],
   "source": [
    "#輸入顧客購買金額，若金額在\n",
    "#100000元打8折.\n",
    "#$50000打85折.\n",
    "#30000打9折.\n",
    "#10000打95折.\n",
    "#請輸入購買金額:130000\n",
    "#實付金額是: 104000.0 元\n",
    "\n",
    "import pyinputplus as pyip\n",
    "try:\n",
    "    discount = pyip.inputInt(\"請輸入折數:\",max=100,min=0)\n",
    "    discount = discount / 10\n",
    "    print(discount)\n",
    "    Amount = pyip.inputInt(\"請輸入折數:\",max=99999999999,min=0)\n",
    "    print(Amount)\n",
    "except:\n",
    "    print(\"資料錯誤\")\n",
    "\n"
   ]
  }
 ],
 "metadata": {
  "language_info": {
   "name": "python"
  }
 },
 "nbformat": 4,
 "nbformat_minor": 2
}
