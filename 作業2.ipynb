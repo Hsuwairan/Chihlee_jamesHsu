{
 "cells": [
  {
   "cell_type": "code",
   "execution_count": 14,
   "metadata": {},
   "outputs": [
    {
     "name": "stdout",
     "output_type": "stream",
     "text": [
      "請輸入收縮壓:121\n",
      "請輸入舒張壓:79\n",
      "收縮壓:121,舒張壓:79,血壓升高\n"
     ]
    }
   ],
   "source": [
    "import pyinputplus as pyip\n",
    "sbp = pyip.inputInt(\"請輸入收縮壓:\")\n",
    "print(sbp)\n",
    "dbp = pyip.inputInt(\"請輸入舒張壓:\")\n",
    "print(dbp)\n",
    "\n",
    "if sbp < 120 and dbp < 80:\n",
    "    print(f'收縮壓:{sbp},舒張壓:{dbp},正常')\n",
    "elif 120 < sbp < 129 and dbp < 80:\n",
    "    print(f'收縮壓:{sbp},舒張壓:{dbp},血壓升高')\n",
    "elif 130 < sbp < 139  or 80 < dbp < 89:\n",
    "    print(f'收縮壓:{sbp},舒張壓:{dbp},高血壓第一期')\n",
    "elif sbp >= 140 or dbp >= 90:\n",
    "    print(f'收縮壓:{sbp},舒張壓:{dbp},高血壓第二期')\n",
    "elif sbp >= 130 and dbp < 80:\n",
    "    print(f'收縮壓:{sbp},舒張壓:{dbp},單純收縮期高血壓')\n"
   ]
  },
  {
   "cell_type": "code",
   "execution_count": 5,
   "metadata": {},
   "outputs": [
    {
     "ename": "NameError",
     "evalue": "name 'pyinputplus' is not defined",
     "output_type": "error",
     "traceback": [
      "\u001b[0;31m---------------------------------------------------------------------------\u001b[0m",
      "\u001b[0;31mNameError\u001b[0m                                 Traceback (most recent call last)",
      "\u001b[1;32m/workspaces/Chihlee_jamesHsu/作業2.ipynb Cell 2\u001b[0m line \u001b[0;36m1\n\u001b[0;32m----> <a href='vscode-notebook-cell://codespaces%2Bbookish-spoon-x5p49jxwqgq2v59/workspaces/Chihlee_jamesHsu/%E4%BD%9C%E6%A5%AD2.ipynb#W1sdnNjb2RlLXJlbW90ZQ%3D%3D?line=0'>1</a>\u001b[0m help(pyinputplus)\n",
      "\u001b[0;31mNameError\u001b[0m: name 'pyinputplus' is not defined"
     ]
    }
   ],
   "source": [
    "help(pyinputplus)"
   ]
  }
 ],
 "metadata": {
  "kernelspec": {
   "display_name": "Python 3",
   "language": "python",
   "name": "python3"
  },
  "language_info": {
   "codemirror_mode": {
    "name": "ipython",
    "version": 3
   },
   "file_extension": ".py",
   "mimetype": "text/x-python",
   "name": "python",
   "nbconvert_exporter": "python",
   "pygments_lexer": "ipython3",
   "version": "3.10.13"
  }
 },
 "nbformat": 4,
 "nbformat_minor": 2
}
