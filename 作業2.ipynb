{
 "cells": [
  {
   "cell_type": "code",
   "execution_count": 21,
   "metadata": {},
   "outputs": [
    {
     "name": "stdout",
     "output_type": "stream",
     "text": [
      "請輸入金額:30000\n",
      "打折95 {28500.0}\n"
     ]
    }
   ],
   "source": [
    "#輸入顧客購買金額，若金額在\n",
    "#100000元打8折.\n",
    "#$50000打85折.\n",
    "#30000打9折.\n",
    "#10000打95折.\n",
    "#請輸入購買金額:130000\n",
    "#實付金額是: 104000.0 元\n",
    "\n",
    "discount_85 = 0.85\n",
    "discount_8 = 0.8\n",
    "discount_9 = 0.9\n",
    "discount_95 = 0.95\n",
    "\n",
    "import pyinputplus as pyip\n",
    "try:\n",
    "    Amount = pyip.inputInt(\"請輸入金額:\",max=99999999999,min=0)\n",
    "    print(Amount)\n",
    "except:\n",
    "    print(\"資料錯誤\")\n",
    "\n",
    "if Amount > 10000:\n",
    "    After_Amount = float(discount_95 * Amount)\n",
    "    #print(discount_95)\n",
    "    print (f'打折95',{After_Amount})\n",
    "elif Amount > 30000:\n",
    "    After_Amount = float(discount_9 * Amount)\n",
    "    #print(discount_9)\n",
    "    print (f'打折9',{After_Amount})"
   ]
  }
 ],
 "metadata": {
  "kernelspec": {
   "display_name": "Python 3",
   "language": "python",
   "name": "python3"
  },
  "language_info": {
   "codemirror_mode": {
    "name": "ipython",
    "version": 3
   },
   "file_extension": ".py",
   "mimetype": "text/x-python",
   "name": "python",
   "nbconvert_exporter": "python",
   "pygments_lexer": "ipython3",
   "version": "3.10.13"
  }
 },
 "nbformat": 4,
 "nbformat_minor": 2
}
