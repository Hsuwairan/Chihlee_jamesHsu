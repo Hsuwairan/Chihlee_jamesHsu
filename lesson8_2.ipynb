{
 "cells": [
  {
   "cell_type": "code",
   "execution_count": 2,
   "metadata": {},
   "outputs": [
    {
     "name": "stdout",
     "output_type": "stream",
     "text": [
      "Hello python\n",
      "Hello python\n",
      "Hello python\n"
     ]
    }
   ],
   "source": [
    "#建議一個Function\n",
    "#最簡單參數，沒有參數，沒有傳出值的Function\n",
    "#沒有Function，靈活性最低\n",
    "def sayHello():\n",
    "    print(\"Hello python\")\n",
    "\n",
    "sayHello()\n",
    "sayHello()\n",
    "sayHello()"
   ]
  },
  {
   "cell_type": "code",
   "execution_count": 17,
   "metadata": {},
   "outputs": [
    {
     "name": "stdout",
     "output_type": "stream",
     "text": [
      "輸入數值(1~3):3\n",
      "Hello Hsu\n"
     ]
    }
   ],
   "source": [
    "import pyinputplus as pyip\n",
    "\n",
    "number = pyip.inputInt(\"輸入數值(1~3):\")\n",
    "print(number)\n",
    "if number == 1:\n",
    "    def sayHello(number):\n",
    "        print(f'Hello {number}')\n",
    "    sayHello(\"james\")\n",
    "elif number == 2:\n",
    "    def sayHello(number):\n",
    "        print(f'Hello {number}')\n",
    "    sayHello(\"wairan\")\n",
    "elif number == 3:\n",
    "    def sayHello(number):\n",
    "        print(f'Hello {number}')\n",
    "    sayHello(\"Hsu\")"
   ]
  },
  {
   "cell_type": "code",
   "execution_count": 18,
   "metadata": {},
   "outputs": [
    {
     "name": "stdout",
     "output_type": "stream",
     "text": [
      "Hello! 少年:徐國堂!\n",
      "Hello! 中年:robert!\n",
      "Hello! 壯年:jenny!\n",
      "Hello! 老年:alice!\n"
     ]
    }
   ],
   "source": [
    "def sayHello(name,age):\n",
    "    if age<18:\n",
    "        alias = \"少年\"\n",
    "    elif age < 30:\n",
    "        alias = \"中年\"\n",
    "    elif age < 50:\n",
    "        alias = \"壯年\"\n",
    "    else:\n",
    "        alias = \"老年\"\n",
    "    \n",
    "    print(f'Hello! {alias}:{name}!')\n",
    "\n",
    "#引數值的呼叫要依順序\n",
    "sayHello(\"徐國堂\",13)\n",
    "sayHello(\"robert\",25)\n",
    "sayHello(\"jenny\",45)\n",
    "sayHello(\"alice\",65)"
   ]
  }
 ],
 "metadata": {
  "kernelspec": {
   "display_name": "Python 3",
   "language": "python",
   "name": "python3"
  },
  "language_info": {
   "codemirror_mode": {
    "name": "ipython",
    "version": 3
   },
   "file_extension": ".py",
   "mimetype": "text/x-python",
   "name": "python",
   "nbconvert_exporter": "python",
   "pygments_lexer": "ipython3",
   "version": "3.10.13"
  }
 },
 "nbformat": 4,
 "nbformat_minor": 2
}
